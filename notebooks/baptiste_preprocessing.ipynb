{
 "cells": [
  {
   "cell_type": "code",
   "execution_count": 1,
   "id": "c0057460",
   "metadata": {},
   "outputs": [],
   "source": [
    "import os\n",
    "import json\n",
    "import numpy as np\n",
    "import pandas as pd\n",
    "import operator\n",
    "from datetime import datetime\n",
    "import datetime\n",
    "import warnings\n",
    "\n",
    "warnings.filterwarnings(\"ignore\")\n",
    "\n",
    "from sklearn.preprocessing import OneHotEncoder"
   ]
  },
  {
   "cell_type": "code",
   "execution_count": 2,
   "id": "c42fb231",
   "metadata": {},
   "outputs": [],
   "source": [
    "data_path=os.path.join(os.path.abspath(os.getcwd()),'raw_data')\n",
    "df=pd.read_csv(os.path.join(data_path,'startups.csv'))"
   ]
  },
  {
   "cell_type": "markdown",
   "id": "e525a10d",
   "metadata": {},
   "source": [
    "# Data exploration"
   ]
  },
  {
   "cell_type": "code",
   "execution_count": 3,
   "id": "1efc589b",
   "metadata": {},
   "outputs": [
    {
     "data": {
      "text/plain": [
       "(314486, 19)"
      ]
     },
     "execution_count": 3,
     "metadata": {},
     "output_type": "execute_result"
    }
   ],
   "source": [
    "df.shape"
   ]
  },
  {
   "cell_type": "code",
   "execution_count": 4,
   "id": "e4494455",
   "metadata": {},
   "outputs": [
    {
     "data": {
      "text/plain": [
       "(312667, 19)"
      ]
     },
     "execution_count": 4,
     "metadata": {},
     "output_type": "execute_result"
    }
   ],
   "source": [
    "df.drop_duplicates(inplace=True)\n",
    "df.shape"
   ]
  },
  {
   "cell_type": "code",
   "execution_count": 5,
   "id": "28dfab36",
   "metadata": {},
   "outputs": [
    {
     "data": {
      "text/plain": [
       "Index(['id', 'name', 'website', 'short_description', 'ipo_status',\n",
       "       'founded_on', 'went_public_on', 'exited_on', 'num_funding_rounds',\n",
       "       'last_equity_funding_type', 'last_equity_funding_total',\n",
       "       'last_funding_at', 'headquartersCountry', 'headquartersRegion',\n",
       "       'employeeCount', 'industry_name', 'technology_name', 'announcedOn',\n",
       "       'moneyRaised'],\n",
       "      dtype='object')"
      ]
     },
     "execution_count": 5,
     "metadata": {},
     "output_type": "execute_result"
    }
   ],
   "source": [
    "df.columns"
   ]
  },
  {
   "cell_type": "code",
   "execution_count": 6,
   "id": "ababff78",
   "metadata": {},
   "outputs": [
    {
     "data": {
      "text/html": [
       "<div>\n",
       "<style scoped>\n",
       "    .dataframe tbody tr th:only-of-type {\n",
       "        vertical-align: middle;\n",
       "    }\n",
       "\n",
       "    .dataframe tbody tr th {\n",
       "        vertical-align: top;\n",
       "    }\n",
       "\n",
       "    .dataframe thead th {\n",
       "        text-align: right;\n",
       "    }\n",
       "</style>\n",
       "<table border=\"1\" class=\"dataframe\">\n",
       "  <thead>\n",
       "    <tr style=\"text-align: right;\">\n",
       "      <th></th>\n",
       "      <th>id</th>\n",
       "      <th>name</th>\n",
       "      <th>website</th>\n",
       "      <th>short_description</th>\n",
       "      <th>ipo_status</th>\n",
       "      <th>founded_on</th>\n",
       "      <th>went_public_on</th>\n",
       "      <th>exited_on</th>\n",
       "      <th>num_funding_rounds</th>\n",
       "      <th>last_equity_funding_type</th>\n",
       "      <th>last_equity_funding_total</th>\n",
       "      <th>last_funding_at</th>\n",
       "      <th>headquartersCountry</th>\n",
       "      <th>headquartersRegion</th>\n",
       "      <th>employeeCount</th>\n",
       "      <th>industry_name</th>\n",
       "      <th>technology_name</th>\n",
       "      <th>announcedOn</th>\n",
       "      <th>moneyRaised</th>\n",
       "    </tr>\n",
       "  </thead>\n",
       "  <tbody>\n",
       "    <tr>\n",
       "      <th>0</th>\n",
       "      <td>75139f4c-6d9d-4a03-8b72-61f73f7be74a</td>\n",
       "      <td>Youcan Robot</td>\n",
       "      <td>https://www.youcanrobot.com/</td>\n",
       "      <td>Youcan Robot is an integrated company in the w...</td>\n",
       "      <td>private</td>\n",
       "      <td>2016-01-01</td>\n",
       "      <td>NaN</td>\n",
       "      <td>NaN</td>\n",
       "      <td>1</td>\n",
       "      <td>seed</td>\n",
       "      <td>NaN</td>\n",
       "      <td>2018-05-30</td>\n",
       "      <td>CN</td>\n",
       "      <td>Shanghai</td>\n",
       "      <td>31.0</td>\n",
       "      <td>Video</td>\n",
       "      <td>Science and Engineering</td>\n",
       "      <td>2018-05-30 00:00:00.000</td>\n",
       "      <td>NaN</td>\n",
       "    </tr>\n",
       "    <tr>\n",
       "      <th>1</th>\n",
       "      <td>75139f4c-6d9d-4a03-8b72-61f73f7be74a</td>\n",
       "      <td>Youcan Robot</td>\n",
       "      <td>https://www.youcanrobot.com/</td>\n",
       "      <td>Youcan Robot is an integrated company in the w...</td>\n",
       "      <td>private</td>\n",
       "      <td>2016-01-01</td>\n",
       "      <td>NaN</td>\n",
       "      <td>NaN</td>\n",
       "      <td>1</td>\n",
       "      <td>seed</td>\n",
       "      <td>NaN</td>\n",
       "      <td>2018-05-30</td>\n",
       "      <td>CN</td>\n",
       "      <td>Shanghai</td>\n",
       "      <td>31.0</td>\n",
       "      <td>Video</td>\n",
       "      <td>Hardware</td>\n",
       "      <td>2018-05-30 00:00:00.000</td>\n",
       "      <td>NaN</td>\n",
       "    </tr>\n",
       "    <tr>\n",
       "      <th>2</th>\n",
       "      <td>75139f4c-6d9d-4a03-8b72-61f73f7be74a</td>\n",
       "      <td>Youcan Robot</td>\n",
       "      <td>https://www.youcanrobot.com/</td>\n",
       "      <td>Youcan Robot is an integrated company in the w...</td>\n",
       "      <td>private</td>\n",
       "      <td>2016-01-01</td>\n",
       "      <td>NaN</td>\n",
       "      <td>NaN</td>\n",
       "      <td>1</td>\n",
       "      <td>seed</td>\n",
       "      <td>NaN</td>\n",
       "      <td>2018-05-30</td>\n",
       "      <td>CN</td>\n",
       "      <td>Shanghai</td>\n",
       "      <td>31.0</td>\n",
       "      <td>Computer Hardware</td>\n",
       "      <td>Science and Engineering</td>\n",
       "      <td>2018-05-30 00:00:00.000</td>\n",
       "      <td>NaN</td>\n",
       "    </tr>\n",
       "    <tr>\n",
       "      <th>3</th>\n",
       "      <td>75139f4c-6d9d-4a03-8b72-61f73f7be74a</td>\n",
       "      <td>Youcan Robot</td>\n",
       "      <td>https://www.youcanrobot.com/</td>\n",
       "      <td>Youcan Robot is an integrated company in the w...</td>\n",
       "      <td>private</td>\n",
       "      <td>2016-01-01</td>\n",
       "      <td>NaN</td>\n",
       "      <td>NaN</td>\n",
       "      <td>1</td>\n",
       "      <td>seed</td>\n",
       "      <td>NaN</td>\n",
       "      <td>2018-05-30</td>\n",
       "      <td>CN</td>\n",
       "      <td>Shanghai</td>\n",
       "      <td>31.0</td>\n",
       "      <td>Computer Hardware</td>\n",
       "      <td>Hardware</td>\n",
       "      <td>2018-05-30 00:00:00.000</td>\n",
       "      <td>NaN</td>\n",
       "    </tr>\n",
       "    <tr>\n",
       "      <th>4</th>\n",
       "      <td>75139f4c-6d9d-4a03-8b72-61f73f7be74a</td>\n",
       "      <td>Youcan Robot</td>\n",
       "      <td>https://www.youcanrobot.com/</td>\n",
       "      <td>Youcan Robot is an integrated company in the w...</td>\n",
       "      <td>private</td>\n",
       "      <td>2016-01-01</td>\n",
       "      <td>NaN</td>\n",
       "      <td>NaN</td>\n",
       "      <td>1</td>\n",
       "      <td>seed</td>\n",
       "      <td>NaN</td>\n",
       "      <td>2018-05-30</td>\n",
       "      <td>CN</td>\n",
       "      <td>Shanghai</td>\n",
       "      <td>31.0</td>\n",
       "      <td>Media and Entertainment</td>\n",
       "      <td>Science and Engineering</td>\n",
       "      <td>2018-05-30 00:00:00.000</td>\n",
       "      <td>NaN</td>\n",
       "    </tr>\n",
       "  </tbody>\n",
       "</table>\n",
       "</div>"
      ],
      "text/plain": [
       "                                     id          name  \\\n",
       "0  75139f4c-6d9d-4a03-8b72-61f73f7be74a  Youcan Robot   \n",
       "1  75139f4c-6d9d-4a03-8b72-61f73f7be74a  Youcan Robot   \n",
       "2  75139f4c-6d9d-4a03-8b72-61f73f7be74a  Youcan Robot   \n",
       "3  75139f4c-6d9d-4a03-8b72-61f73f7be74a  Youcan Robot   \n",
       "4  75139f4c-6d9d-4a03-8b72-61f73f7be74a  Youcan Robot   \n",
       "\n",
       "                        website  \\\n",
       "0  https://www.youcanrobot.com/   \n",
       "1  https://www.youcanrobot.com/   \n",
       "2  https://www.youcanrobot.com/   \n",
       "3  https://www.youcanrobot.com/   \n",
       "4  https://www.youcanrobot.com/   \n",
       "\n",
       "                                   short_description ipo_status  founded_on  \\\n",
       "0  Youcan Robot is an integrated company in the w...    private  2016-01-01   \n",
       "1  Youcan Robot is an integrated company in the w...    private  2016-01-01   \n",
       "2  Youcan Robot is an integrated company in the w...    private  2016-01-01   \n",
       "3  Youcan Robot is an integrated company in the w...    private  2016-01-01   \n",
       "4  Youcan Robot is an integrated company in the w...    private  2016-01-01   \n",
       "\n",
       "  went_public_on exited_on  num_funding_rounds last_equity_funding_type  \\\n",
       "0            NaN       NaN                   1                     seed   \n",
       "1            NaN       NaN                   1                     seed   \n",
       "2            NaN       NaN                   1                     seed   \n",
       "3            NaN       NaN                   1                     seed   \n",
       "4            NaN       NaN                   1                     seed   \n",
       "\n",
       "  last_equity_funding_total last_funding_at headquartersCountry  \\\n",
       "0                       NaN      2018-05-30                  CN   \n",
       "1                       NaN      2018-05-30                  CN   \n",
       "2                       NaN      2018-05-30                  CN   \n",
       "3                       NaN      2018-05-30                  CN   \n",
       "4                       NaN      2018-05-30                  CN   \n",
       "\n",
       "  headquartersRegion  employeeCount            industry_name  \\\n",
       "0           Shanghai           31.0                    Video   \n",
       "1           Shanghai           31.0                    Video   \n",
       "2           Shanghai           31.0        Computer Hardware   \n",
       "3           Shanghai           31.0        Computer Hardware   \n",
       "4           Shanghai           31.0  Media and Entertainment   \n",
       "\n",
       "           technology_name              announcedOn moneyRaised  \n",
       "0  Science and Engineering  2018-05-30 00:00:00.000         NaN  \n",
       "1                 Hardware  2018-05-30 00:00:00.000         NaN  \n",
       "2  Science and Engineering  2018-05-30 00:00:00.000         NaN  \n",
       "3                 Hardware  2018-05-30 00:00:00.000         NaN  \n",
       "4  Science and Engineering  2018-05-30 00:00:00.000         NaN  "
      ]
     },
     "execution_count": 6,
     "metadata": {},
     "output_type": "execute_result"
    }
   ],
   "source": [
    "df.head()"
   ]
  },
  {
   "cell_type": "code",
   "execution_count": 7,
   "id": "b611678a",
   "metadata": {},
   "outputs": [
    {
     "data": {
      "text/html": [
       "<div>\n",
       "<style scoped>\n",
       "    .dataframe tbody tr th:only-of-type {\n",
       "        vertical-align: middle;\n",
       "    }\n",
       "\n",
       "    .dataframe tbody tr th {\n",
       "        vertical-align: top;\n",
       "    }\n",
       "\n",
       "    .dataframe thead th {\n",
       "        text-align: right;\n",
       "    }\n",
       "</style>\n",
       "<table border=\"1\" class=\"dataframe\">\n",
       "  <thead>\n",
       "    <tr style=\"text-align: right;\">\n",
       "      <th></th>\n",
       "      <th>num_funding_rounds</th>\n",
       "      <th>employeeCount</th>\n",
       "    </tr>\n",
       "  </thead>\n",
       "  <tbody>\n",
       "    <tr>\n",
       "      <th>count</th>\n",
       "      <td>312667.000000</td>\n",
       "      <td>300442.000000</td>\n",
       "    </tr>\n",
       "    <tr>\n",
       "      <th>mean</th>\n",
       "      <td>3.406656</td>\n",
       "      <td>62.002882</td>\n",
       "    </tr>\n",
       "    <tr>\n",
       "      <th>std</th>\n",
       "      <td>2.419148</td>\n",
       "      <td>444.244820</td>\n",
       "    </tr>\n",
       "    <tr>\n",
       "      <th>min</th>\n",
       "      <td>1.000000</td>\n",
       "      <td>0.000000</td>\n",
       "    </tr>\n",
       "    <tr>\n",
       "      <th>25%</th>\n",
       "      <td>2.000000</td>\n",
       "      <td>6.000000</td>\n",
       "    </tr>\n",
       "    <tr>\n",
       "      <th>50%</th>\n",
       "      <td>3.000000</td>\n",
       "      <td>31.000000</td>\n",
       "    </tr>\n",
       "    <tr>\n",
       "      <th>75%</th>\n",
       "      <td>5.000000</td>\n",
       "      <td>31.000000</td>\n",
       "    </tr>\n",
       "    <tr>\n",
       "      <th>max</th>\n",
       "      <td>22.000000</td>\n",
       "      <td>32098.000000</td>\n",
       "    </tr>\n",
       "  </tbody>\n",
       "</table>\n",
       "</div>"
      ],
      "text/plain": [
       "       num_funding_rounds  employeeCount\n",
       "count       312667.000000  300442.000000\n",
       "mean             3.406656      62.002882\n",
       "std              2.419148     444.244820\n",
       "min              1.000000       0.000000\n",
       "25%              2.000000       6.000000\n",
       "50%              3.000000      31.000000\n",
       "75%              5.000000      31.000000\n",
       "max             22.000000   32098.000000"
      ]
     },
     "execution_count": 7,
     "metadata": {},
     "output_type": "execute_result"
    }
   ],
   "source": [
    "df.describe()"
   ]
  },
  {
   "cell_type": "code",
   "execution_count": 8,
   "id": "d19e53c0",
   "metadata": {},
   "outputs": [
    {
     "data": {
      "text/html": [
       "<div>\n",
       "<style scoped>\n",
       "    .dataframe tbody tr th:only-of-type {\n",
       "        vertical-align: middle;\n",
       "    }\n",
       "\n",
       "    .dataframe tbody tr th {\n",
       "        vertical-align: top;\n",
       "    }\n",
       "\n",
       "    .dataframe thead th {\n",
       "        text-align: right;\n",
       "    }\n",
       "</style>\n",
       "<table border=\"1\" class=\"dataframe\">\n",
       "  <thead>\n",
       "    <tr style=\"text-align: right;\">\n",
       "      <th></th>\n",
       "      <th>column_name</th>\n",
       "      <th>percent_missing</th>\n",
       "    </tr>\n",
       "  </thead>\n",
       "  <tbody>\n",
       "    <tr>\n",
       "      <th>id</th>\n",
       "      <td>id</td>\n",
       "      <td>0.000000</td>\n",
       "    </tr>\n",
       "    <tr>\n",
       "      <th>name</th>\n",
       "      <td>name</td>\n",
       "      <td>0.000000</td>\n",
       "    </tr>\n",
       "    <tr>\n",
       "      <th>website</th>\n",
       "      <td>website</td>\n",
       "      <td>1.021534</td>\n",
       "    </tr>\n",
       "    <tr>\n",
       "      <th>short_description</th>\n",
       "      <td>short_description</td>\n",
       "      <td>0.000959</td>\n",
       "    </tr>\n",
       "    <tr>\n",
       "      <th>ipo_status</th>\n",
       "      <td>ipo_status</td>\n",
       "      <td>0.000000</td>\n",
       "    </tr>\n",
       "    <tr>\n",
       "      <th>founded_on</th>\n",
       "      <td>founded_on</td>\n",
       "      <td>0.000000</td>\n",
       "    </tr>\n",
       "    <tr>\n",
       "      <th>went_public_on</th>\n",
       "      <td>went_public_on</td>\n",
       "      <td>98.285716</td>\n",
       "    </tr>\n",
       "    <tr>\n",
       "      <th>exited_on</th>\n",
       "      <td>exited_on</td>\n",
       "      <td>92.975274</td>\n",
       "    </tr>\n",
       "    <tr>\n",
       "      <th>num_funding_rounds</th>\n",
       "      <td>num_funding_rounds</td>\n",
       "      <td>0.000000</td>\n",
       "    </tr>\n",
       "    <tr>\n",
       "      <th>last_equity_funding_type</th>\n",
       "      <td>last_equity_funding_type</td>\n",
       "      <td>8.140929</td>\n",
       "    </tr>\n",
       "    <tr>\n",
       "      <th>last_equity_funding_total</th>\n",
       "      <td>last_equity_funding_total</td>\n",
       "      <td>24.797308</td>\n",
       "    </tr>\n",
       "    <tr>\n",
       "      <th>last_funding_at</th>\n",
       "      <td>last_funding_at</td>\n",
       "      <td>0.000000</td>\n",
       "    </tr>\n",
       "    <tr>\n",
       "      <th>headquartersCountry</th>\n",
       "      <td>headquartersCountry</td>\n",
       "      <td>0.364285</td>\n",
       "    </tr>\n",
       "    <tr>\n",
       "      <th>headquartersRegion</th>\n",
       "      <td>headquartersRegion</td>\n",
       "      <td>0.378038</td>\n",
       "    </tr>\n",
       "    <tr>\n",
       "      <th>employeeCount</th>\n",
       "      <td>employeeCount</td>\n",
       "      <td>3.909911</td>\n",
       "    </tr>\n",
       "    <tr>\n",
       "      <th>industry_name</th>\n",
       "      <td>industry_name</td>\n",
       "      <td>2.916202</td>\n",
       "    </tr>\n",
       "    <tr>\n",
       "      <th>technology_name</th>\n",
       "      <td>technology_name</td>\n",
       "      <td>4.777287</td>\n",
       "    </tr>\n",
       "    <tr>\n",
       "      <th>announcedOn</th>\n",
       "      <td>announcedOn</td>\n",
       "      <td>0.208209</td>\n",
       "    </tr>\n",
       "    <tr>\n",
       "      <th>moneyRaised</th>\n",
       "      <td>moneyRaised</td>\n",
       "      <td>28.806686</td>\n",
       "    </tr>\n",
       "  </tbody>\n",
       "</table>\n",
       "</div>"
      ],
      "text/plain": [
       "                                         column_name  percent_missing\n",
       "id                                                id         0.000000\n",
       "name                                            name         0.000000\n",
       "website                                      website         1.021534\n",
       "short_description                  short_description         0.000959\n",
       "ipo_status                                ipo_status         0.000000\n",
       "founded_on                                founded_on         0.000000\n",
       "went_public_on                        went_public_on        98.285716\n",
       "exited_on                                  exited_on        92.975274\n",
       "num_funding_rounds                num_funding_rounds         0.000000\n",
       "last_equity_funding_type    last_equity_funding_type         8.140929\n",
       "last_equity_funding_total  last_equity_funding_total        24.797308\n",
       "last_funding_at                      last_funding_at         0.000000\n",
       "headquartersCountry              headquartersCountry         0.364285\n",
       "headquartersRegion                headquartersRegion         0.378038\n",
       "employeeCount                          employeeCount         3.909911\n",
       "industry_name                          industry_name         2.916202\n",
       "technology_name                      technology_name         4.777287\n",
       "announcedOn                              announcedOn         0.208209\n",
       "moneyRaised                              moneyRaised        28.806686"
      ]
     },
     "execution_count": 8,
     "metadata": {},
     "output_type": "execute_result"
    }
   ],
   "source": [
    "percent_missing = df.isnull().sum() * 100 / len(df)\n",
    "missing_value_df = pd.DataFrame({'column_name': df.columns,'percent_missing': percent_missing})\n",
    "missing_value_df "
   ]
  },
  {
   "cell_type": "code",
   "execution_count": 9,
   "id": "4945aa0b",
   "metadata": {},
   "outputs": [
    {
     "data": {
      "text/plain": [
       "19"
      ]
     },
     "execution_count": 9,
     "metadata": {},
     "output_type": "execute_result"
    }
   ],
   "source": [
    "columns_to_keep=missing_value_df[percent_missing<=100].index\n",
    "len(columns_to_keep)"
   ]
  },
  {
   "cell_type": "code",
   "execution_count": 10,
   "id": "658de058",
   "metadata": {},
   "outputs": [
    {
     "data": {
      "text/plain": [
       "Index(['id', 'name', 'website', 'short_description', 'ipo_status',\n",
       "       'founded_on', 'went_public_on', 'exited_on', 'num_funding_rounds',\n",
       "       'last_equity_funding_type', 'last_equity_funding_total',\n",
       "       'last_funding_at', 'headquartersCountry', 'headquartersRegion',\n",
       "       'employeeCount', 'industry_name', 'technology_name', 'announcedOn',\n",
       "       'moneyRaised'],\n",
       "      dtype='object')"
      ]
     },
     "execution_count": 10,
     "metadata": {},
     "output_type": "execute_result"
    }
   ],
   "source": [
    "columns_to_keep"
   ]
  },
  {
   "cell_type": "code",
   "execution_count": 11,
   "id": "ea1a673e",
   "metadata": {},
   "outputs": [
    {
     "data": {
      "text/plain": [
       "(312667, 19)"
      ]
     },
     "execution_count": 11,
     "metadata": {},
     "output_type": "execute_result"
    }
   ],
   "source": [
    "df=df[columns_to_keep]\n",
    "df.shape"
   ]
  },
  {
   "cell_type": "code",
   "execution_count": 12,
   "id": "fedf5093",
   "metadata": {},
   "outputs": [
    {
     "name": "stdout",
     "output_type": "stream",
     "text": [
      "['technology_name']\n",
      "technology_name: 0.9522\n"
     ]
    }
   ],
   "source": [
    "string_list=['technology_name']\n",
    "\n",
    "string_to_search=string_list[0]\n",
    "\n",
    "columns_list=[column for column in df.columns if string_to_search in column.lower()]\n",
    "print(columns_list)\n",
    "\n",
    "for string in columns_list:\n",
    "    print(f'{string}: {round(df[~df[string].isnull()].shape[0]/df.shape[0],4)}')"
   ]
  },
  {
   "cell_type": "code",
   "execution_count": 13,
   "id": "501aa798",
   "metadata": {},
   "outputs": [
    {
     "data": {
      "text/plain": [
       "private     307633\n",
       "public        4957\n",
       "delisted        77\n",
       "Name: ipo_status, dtype: int64"
      ]
     },
     "execution_count": 13,
     "metadata": {},
     "output_type": "execute_result"
    }
   ],
   "source": [
    "df.ipo_status.value_counts()"
   ]
  },
  {
   "cell_type": "code",
   "execution_count": 14,
   "id": "5ea3020e",
   "metadata": {},
   "outputs": [
    {
     "data": {
      "text/plain": [
       "55665"
      ]
     },
     "execution_count": 14,
     "metadata": {},
     "output_type": "execute_result"
    }
   ],
   "source": [
    "df.name.nunique()"
   ]
  },
  {
   "cell_type": "code",
   "execution_count": 15,
   "id": "31d89629",
   "metadata": {
    "scrolled": true
   },
   "outputs": [
    {
     "data": {
      "text/plain": [
       "array(['seed', 'pre_seed', nan, 'series_unknown', 'private_equity',\n",
       "       'series_a', 'angel', 'equity_crowdfunding',\n",
       "       'initial_coin_offering', 'series_b', 'series_c', 'corporate_round',\n",
       "       'post_ipo_equity', 'series_d', 'undisclosed', 'series_e',\n",
       "       'series_f', 'series_g', 'series_h'], dtype=object)"
      ]
     },
     "execution_count": 15,
     "metadata": {},
     "output_type": "execute_result"
    }
   ],
   "source": [
    "df.last_equity_funding_type.unique()"
   ]
  },
  {
   "cell_type": "code",
   "execution_count": 16,
   "id": "4d596aa7",
   "metadata": {},
   "outputs": [
    {
     "data": {
      "text/plain": [
       "Arthur Intelligence          216\n",
       "Embodied                     144\n",
       "SparkCharge                  120\n",
       "Summit Nanotech              120\n",
       "Flume                        120\n",
       "                            ... \n",
       "Tabnex                         1\n",
       "WinMiner                       1\n",
       "Phoenix Natural Resources      1\n",
       "WeldNote                       1\n",
       "LeafyMade                      1\n",
       "Name: name, Length: 55665, dtype: int64"
      ]
     },
     "execution_count": 16,
     "metadata": {},
     "output_type": "execute_result"
    }
   ],
   "source": [
    "df.name.value_counts()"
   ]
  },
  {
   "cell_type": "markdown",
   "id": "696136e4",
   "metadata": {},
   "source": [
    "# Fill missing and format"
   ]
  },
  {
   "cell_type": "markdown",
   "id": "0811cdb6",
   "metadata": {},
   "source": [
    "## last_equity_funding_total et moneyRaised"
   ]
  },
  {
   "cell_type": "code",
   "execution_count": 17,
   "id": "f58f0ca2",
   "metadata": {},
   "outputs": [
    {
     "data": {
      "text/plain": [
       "array([nan, '{\"currency\":\"USD\",\"amount\":50000000,\"amountUSD\":50000000}',\n",
       "       '{\"currency\":\"CNY\",\"amount\":118000000,\"amountUSD\":17616400}', ...,\n",
       "       '{\"currency\":\"USD\",\"amount\":3560999900,\"amountUSD\":3560999900}',\n",
       "       '{\"currency\":\"USD\",\"amount\":1048459800,\"amountUSD\":1048459800}',\n",
       "       '{\"currency\":\"USD\",\"amount\":40439800,\"amountUSD\":40439800}'],\n",
       "      dtype=object)"
      ]
     },
     "execution_count": 17,
     "metadata": {},
     "output_type": "execute_result"
    }
   ],
   "source": [
    "df['last_equity_funding_total'].unique()"
   ]
  },
  {
   "cell_type": "code",
   "execution_count": 18,
   "id": "352dfa0c",
   "metadata": {},
   "outputs": [
    {
     "data": {
      "text/plain": [
       "array([nan,\n",
       "       '{\"amount\": 5000000, \"currency\": \"USD\", \"amountUSD\": 5000000}',\n",
       "       '{\"amount\": 50000000, \"currency\": \"USD\", \"amountUSD\": 50000000}',\n",
       "       ...,\n",
       "       '{\"amount\": 11232100, \"currency\": \"USD\", \"amountUSD\": 11232100}',\n",
       "       '{\"amount\": 1799800, \"currency\": \"USD\", \"amountUSD\": 1799800}',\n",
       "       '{\"amount\": 40439800, \"currency\": \"USD\", \"amountUSD\": 40439800}'],\n",
       "      dtype=object)"
      ]
     },
     "execution_count": 18,
     "metadata": {},
     "output_type": "execute_result"
    }
   ],
   "source": [
    "df['moneyRaised'].unique()"
   ]
  },
  {
   "cell_type": "code",
   "execution_count": 19,
   "id": "13b4bc37",
   "metadata": {},
   "outputs": [
    {
     "name": "stdout",
     "output_type": "stream",
     "text": [
      "77533 90069\n"
     ]
    }
   ],
   "source": [
    "print(df['last_equity_funding_total'].isnull().sum(),df['moneyRaised'].isnull().sum())"
   ]
  },
  {
   "cell_type": "code",
   "execution_count": 20,
   "id": "5f199ad2",
   "metadata": {},
   "outputs": [],
   "source": [
    "def preprocess_moneyRaised(x):\n",
    "    return float(json.loads(x)[\"amountUSD\"])"
   ]
  },
  {
   "cell_type": "code",
   "execution_count": 21,
   "id": "97231efb",
   "metadata": {},
   "outputs": [],
   "source": [
    "#x=df['last_equity_funding_total'][2]\n",
    "#print(x, preprocess_moneyRaised(x))"
   ]
  },
  {
   "cell_type": "code",
   "execution_count": 22,
   "id": "1bd664ff",
   "metadata": {},
   "outputs": [],
   "source": [
    "#json.loads(df['last_equity_funding_total'][2])['amountUSD']"
   ]
  },
  {
   "cell_type": "code",
   "execution_count": 23,
   "id": "0abe5ce4",
   "metadata": {},
   "outputs": [],
   "source": [
    "for column in ['last_equity_funding_total', 'moneyRaised']:\n",
    "    df[column].replace(np.nan,'{\"amount\": 0, \"currency\": \"USD\", \"amountUSD\": 0}', inplace=True)\n",
    "    df[column].replace('{\"value\":null,\"currency\":\"USD\",\"value_usd\":null}','{\"amount\": 0, \"currency\": \"USD\", \"amountUSD\": 0}', inplace=True)\n",
    "    df[column] = df[column].apply(lambda x: preprocess_moneyRaised(x))"
   ]
  },
  {
   "cell_type": "code",
   "execution_count": 24,
   "id": "de3dff14",
   "metadata": {},
   "outputs": [
    {
     "name": "stdout",
     "output_type": "stream",
     "text": [
      "0 0\n"
     ]
    }
   ],
   "source": [
    "print(df['last_equity_funding_total'].isnull().sum(),df['moneyRaised'].isnull().sum())"
   ]
  },
  {
   "cell_type": "code",
   "execution_count": 25,
   "id": "82bd4de4",
   "metadata": {},
   "outputs": [
    {
     "name": "stdout",
     "output_type": "stream",
     "text": [
      "float64 float64\n"
     ]
    }
   ],
   "source": [
    "print(df['last_equity_funding_total'].dtype, df['moneyRaised'].dtype)"
   ]
  },
  {
   "cell_type": "markdown",
   "id": "bda359cc",
   "metadata": {},
   "source": [
    "## Date columns"
   ]
  },
  {
   "cell_type": "code",
   "execution_count": 26,
   "id": "54d5dbf4",
   "metadata": {},
   "outputs": [],
   "source": [
    "date_columns=['founded_on', 'went_public_on', 'exited_on','last_funding_at','announcedOn']\n",
    "df[date_columns] = df[date_columns].apply(pd.to_datetime)"
   ]
  },
  {
   "cell_type": "code",
   "execution_count": 27,
   "id": "a8cd4fc1",
   "metadata": {},
   "outputs": [
    {
     "name": "stdout",
     "output_type": "stream",
     "text": [
      "founded_on: datetime64[ns]\n",
      "went_public_on: datetime64[ns]\n",
      "exited_on: datetime64[ns]\n",
      "last_funding_at: datetime64[ns]\n",
      "announcedOn: datetime64[ns]\n"
     ]
    }
   ],
   "source": [
    "for column in date_columns:\n",
    "    print(f'{column}: {df[column].dtype}')"
   ]
  },
  {
   "cell_type": "code",
   "execution_count": 28,
   "id": "66f68f01",
   "metadata": {},
   "outputs": [
    {
     "name": "stdout",
     "output_type": "stream",
     "text": [
      "founded_on: 0\n",
      "went_public_on: 307307\n",
      "exited_on: 290703\n",
      "last_funding_at: 0\n",
      "announcedOn: 651\n"
     ]
    }
   ],
   "source": [
    "for column in date_columns:\n",
    "    print(f'{column}: {df[column].isnull().sum()}')"
   ]
  },
  {
   "cell_type": "code",
   "execution_count": 29,
   "id": "09ec1a58",
   "metadata": {},
   "outputs": [],
   "source": [
    "#for date_column in date_columns:\n",
    "    #if df[date_column].isnull().sum()!=0:\n",
    "        #df[date_column].fillna(datetime.datetime.min,inplace=True)"
   ]
  },
  {
   "cell_type": "code",
   "execution_count": 30,
   "id": "792e418d",
   "metadata": {},
   "outputs": [
    {
     "name": "stdout",
     "output_type": "stream",
     "text": [
      "founded_on: 0\n",
      "went_public_on: 307307\n",
      "exited_on: 290703\n",
      "last_funding_at: 0\n",
      "announcedOn: 651\n"
     ]
    }
   ],
   "source": [
    "for column in date_columns:\n",
    "    print(f'{column}: {df[column].isnull().sum()}')"
   ]
  },
  {
   "cell_type": "markdown",
   "id": "de3d6b3a",
   "metadata": {},
   "source": [
    "# Target encoding"
   ]
  },
  {
   "cell_type": "code",
   "execution_count": 31,
   "id": "93d6f451",
   "metadata": {},
   "outputs": [
    {
     "name": "stdout",
     "output_type": "stream",
     "text": [
      "5360 307307 312667\n"
     ]
    }
   ],
   "source": [
    "print(df.went_public_on.notnull().sum(),df.went_public_on.isnull().sum(),df.went_public_on.notnull().sum()+df.went_public_on.isnull().sum())"
   ]
  },
  {
   "cell_type": "code",
   "execution_count": 32,
   "id": "97748b81",
   "metadata": {},
   "outputs": [
    {
     "name": "stdout",
     "output_type": "stream",
     "text": [
      "21964 290703 312667\n"
     ]
    }
   ],
   "source": [
    "print(df.exited_on.notnull().sum(),df.exited_on.isnull().sum(),df.exited_on.notnull().sum()+df.exited_on.isnull().sum())"
   ]
  },
  {
   "cell_type": "code",
   "execution_count": 33,
   "id": "ddc7d562",
   "metadata": {},
   "outputs": [
    {
     "data": {
      "text/plain": [
       "(21964, 19)"
      ]
     },
     "execution_count": 33,
     "metadata": {},
     "output_type": "execute_result"
    }
   ],
   "source": [
    "df[(df.went_public_on.notnull()) | (df.exited_on.notnull())].shape"
   ]
  },
  {
   "cell_type": "code",
   "execution_count": 34,
   "id": "def4f20d",
   "metadata": {},
   "outputs": [],
   "source": [
    "df.loc[(df.went_public_on.notnull()) | (df.exited_on.notnull()), 'Target'] = 1\n",
    "df.loc[(df.went_public_on.isnull()) & (df.exited_on.isnull()), 'Target'] = 0"
   ]
  },
  {
   "cell_type": "code",
   "execution_count": 35,
   "id": "f6614d38",
   "metadata": {},
   "outputs": [
    {
     "data": {
      "text/plain": [
       "0.0    290703\n",
       "1.0     21964\n",
       "Name: Target, dtype: int64"
      ]
     },
     "execution_count": 35,
     "metadata": {},
     "output_type": "execute_result"
    }
   ],
   "source": [
    "df.Target.value_counts()"
   ]
  },
  {
   "cell_type": "code",
   "execution_count": 36,
   "id": "9f4ab295",
   "metadata": {},
   "outputs": [
    {
     "data": {
      "text/plain": [
       "(5360, 20)"
      ]
     },
     "execution_count": 36,
     "metadata": {},
     "output_type": "execute_result"
    }
   ],
   "source": [
    "df.loc[(df.exited_on.notnull()) & (df.went_public_on.notnull())].shape"
   ]
  },
  {
   "cell_type": "code",
   "execution_count": 37,
   "id": "42f5625f",
   "metadata": {},
   "outputs": [
    {
     "data": {
      "text/plain": [
       "(5287, 20)"
      ]
     },
     "execution_count": 37,
     "metadata": {},
     "output_type": "execute_result"
    }
   ],
   "source": [
    "df[df.exited_on==df.went_public_on].shape"
   ]
  },
  {
   "cell_type": "code",
   "execution_count": 38,
   "id": "c9beb6c9",
   "metadata": {},
   "outputs": [
    {
     "data": {
      "text/plain": [
       "(307380, 20)"
      ]
     },
     "execution_count": 38,
     "metadata": {},
     "output_type": "execute_result"
    }
   ],
   "source": [
    "df[df.exited_on!=df.went_public_on].shape"
   ]
  },
  {
   "cell_type": "code",
   "execution_count": 39,
   "id": "331af6ac",
   "metadata": {},
   "outputs": [
    {
     "data": {
      "text/plain": [
       "dtype('<M8[ns]')"
      ]
     },
     "execution_count": 39,
     "metadata": {},
     "output_type": "execute_result"
    }
   ],
   "source": [
    "df['exited_on'].dtype"
   ]
  },
  {
   "cell_type": "code",
   "execution_count": 40,
   "id": "24bfe2fc",
   "metadata": {},
   "outputs": [],
   "source": [
    "df.drop(columns=['went_public_on', 'exited_on'],inplace = True)"
   ]
  },
  {
   "cell_type": "code",
   "execution_count": 41,
   "id": "08c12df1",
   "metadata": {},
   "outputs": [
    {
     "data": {
      "text/plain": [
       "0.0    290703\n",
       "1.0     21964\n",
       "Name: Target, dtype: int64"
      ]
     },
     "execution_count": 41,
     "metadata": {},
     "output_type": "execute_result"
    }
   ],
   "source": [
    "df.Target.value_counts()"
   ]
  },
  {
   "cell_type": "code",
   "execution_count": 42,
   "id": "eb76db59",
   "metadata": {},
   "outputs": [],
   "source": [
    "#df.loc[(df.Target==1) & (df.exited_on.notnull()), 'time_to_success'] = df['exited_on']-df['founded_on']\n",
    "#df.loc[(df.Target==1) & (df.went_public_on.notnull()), 'time_to_success'] = df['went_public_on']-df['founded_on']"
   ]
  },
  {
   "cell_type": "code",
   "execution_count": 43,
   "id": "da0adf8f",
   "metadata": {},
   "outputs": [
    {
     "name": "stdout",
     "output_type": "stream",
     "text": [
      "<class 'pandas.core.frame.DataFrame'>\n",
      "Int64Index: 312667 entries, 0 to 314485\n",
      "Data columns (total 18 columns):\n",
      " #   Column                     Non-Null Count   Dtype         \n",
      "---  ------                     --------------   -----         \n",
      " 0   id                         312667 non-null  object        \n",
      " 1   name                       312667 non-null  object        \n",
      " 2   website                    309473 non-null  object        \n",
      " 3   short_description          312664 non-null  object        \n",
      " 4   ipo_status                 312667 non-null  object        \n",
      " 5   founded_on                 312667 non-null  datetime64[ns]\n",
      " 6   num_funding_rounds         312667 non-null  int64         \n",
      " 7   last_equity_funding_type   287213 non-null  object        \n",
      " 8   last_equity_funding_total  312667 non-null  float64       \n",
      " 9   last_funding_at            312667 non-null  datetime64[ns]\n",
      " 10  headquartersCountry        311528 non-null  object        \n",
      " 11  headquartersRegion         311485 non-null  object        \n",
      " 12  employeeCount              300442 non-null  float64       \n",
      " 13  industry_name              303549 non-null  object        \n",
      " 14  technology_name            297730 non-null  object        \n",
      " 15  announcedOn                312016 non-null  datetime64[ns]\n",
      " 16  moneyRaised                312667 non-null  float64       \n",
      " 17  Target                     312667 non-null  float64       \n",
      "dtypes: datetime64[ns](3), float64(4), int64(1), object(10)\n",
      "memory usage: 45.3+ MB\n"
     ]
    }
   ],
   "source": [
    "df.info(verbose=True)"
   ]
  },
  {
   "cell_type": "code",
   "execution_count": 44,
   "id": "2fcf7721",
   "metadata": {},
   "outputs": [],
   "source": [
    "#df[df['time_to_success'].notnull()]['time_to_success']"
   ]
  },
  {
   "cell_type": "code",
   "execution_count": 45,
   "id": "5b15d03d",
   "metadata": {},
   "outputs": [],
   "source": [
    "#df['time_to_success']=df['time_to_success'].dt.components.days"
   ]
  },
  {
   "cell_type": "code",
   "execution_count": 46,
   "id": "3ae5058c",
   "metadata": {},
   "outputs": [],
   "source": [
    "#df[df['time_to_success'].notnull()].shape"
   ]
  },
  {
   "cell_type": "code",
   "execution_count": 47,
   "id": "7a0c3867",
   "metadata": {},
   "outputs": [
    {
     "data": {
      "text/plain": [
       "id                               0\n",
       "name                             0\n",
       "website                       3194\n",
       "short_description                3\n",
       "ipo_status                       0\n",
       "founded_on                       0\n",
       "num_funding_rounds               0\n",
       "last_equity_funding_type     25454\n",
       "last_equity_funding_total        0\n",
       "last_funding_at                  0\n",
       "headquartersCountry           1139\n",
       "headquartersRegion            1182\n",
       "employeeCount                12225\n",
       "industry_name                 9118\n",
       "technology_name              14937\n",
       "announcedOn                    651\n",
       "moneyRaised                      0\n",
       "Target                           0\n",
       "dtype: int64"
      ]
     },
     "execution_count": 47,
     "metadata": {},
     "output_type": "execute_result"
    }
   ],
   "source": [
    "df.isnull().sum()"
   ]
  },
  {
   "cell_type": "markdown",
   "id": "1d8b2b08",
   "metadata": {},
   "source": [
    "# Fill missing values"
   ]
  },
  {
   "cell_type": "code",
   "execution_count": 48,
   "id": "7a477dcf",
   "metadata": {},
   "outputs": [
    {
     "data": {
      "text/plain": [
       "(312667, 18)"
      ]
     },
     "execution_count": 48,
     "metadata": {},
     "output_type": "execute_result"
    }
   ],
   "source": [
    "df.shape"
   ]
  },
  {
   "cell_type": "code",
   "execution_count": 49,
   "id": "515d2e2e",
   "metadata": {},
   "outputs": [
    {
     "name": "stdout",
     "output_type": "stream",
     "text": [
      "website\n",
      "short_description\n",
      "last_equity_funding_type\n",
      "headquartersCountry\n",
      "headquartersRegion\n",
      "industry_name\n",
      "technology_name\n",
      "employeeCount\n"
     ]
    }
   ],
   "source": [
    "column_types=['object', 'int64', 'float64']\n",
    "\n",
    "for column_type in column_types:\n",
    "\n",
    "    columns_to_fill= df.select_dtypes(include=column_type).columns.to_list()\n",
    "\n",
    "    for column_to_fill in columns_to_fill:\n",
    "        \n",
    "        if df[column_to_fill].isnull().sum()!=0:\n",
    "            \n",
    "            if column_type=='object': \n",
    "                print(column_to_fill)\n",
    "                df[column_to_fill].fillna(\"unknown\",inplace=True)\n",
    "            \n",
    "            else:\n",
    "                if column_to_fill !='time_to_success':\n",
    "                    print(column_to_fill)\n",
    "                    df[column_to_fill].fillna(0,inplace=True)"
   ]
  },
  {
   "cell_type": "code",
   "execution_count": 50,
   "id": "54c2ffbf",
   "metadata": {},
   "outputs": [],
   "source": [
    "#column_types=['object', 'int64', 'float64','datetime64[ns]']\n",
    "\n",
    "#for column_type in column_types:\n",
    "\n",
    "    #columns_to_fill= df.select_dtypes(include=column_type).columns.to_list()\n",
    "\n",
    "    #for column_to_fill in columns_to_fill:\n",
    "        \n",
    "        #if df[column_to_fill].isnull().sum()!=0:\n",
    "            \n",
    "            #if column_type=='object': \n",
    "                #print(column_to_fill)\n",
    "                #df[column_to_fill].fillna(\"unknown\",inplace=True)\n",
    "            \n",
    "            #if column_type=='datetime64[ns]': \n",
    "                #print(column_to_fill)\n",
    "                #df[column_to_fill].fillna(datetime.datetime.min,inplace=True)\n",
    "                \n",
    "            #else:\n",
    "   \n",
    "                #print(column_to_fill)\n",
    "                #df[column_to_fill].fillna(0,inplace=True)"
   ]
  },
  {
   "cell_type": "code",
   "execution_count": 51,
   "id": "f4094569",
   "metadata": {},
   "outputs": [],
   "source": [
    "df.drop(columns=['website', 'short_description'],inplace = True)"
   ]
  },
  {
   "cell_type": "code",
   "execution_count": 52,
   "id": "1ed9240d",
   "metadata": {},
   "outputs": [
    {
     "data": {
      "text/plain": [
       "id                             0\n",
       "name                           0\n",
       "ipo_status                     0\n",
       "founded_on                     0\n",
       "num_funding_rounds             0\n",
       "last_equity_funding_type       0\n",
       "last_equity_funding_total      0\n",
       "last_funding_at                0\n",
       "headquartersCountry            0\n",
       "headquartersRegion             0\n",
       "employeeCount                  0\n",
       "industry_name                  0\n",
       "technology_name                0\n",
       "announcedOn                  651\n",
       "moneyRaised                    0\n",
       "Target                         0\n",
       "dtype: int64"
      ]
     },
     "execution_count": 52,
     "metadata": {},
     "output_type": "execute_result"
    }
   ],
   "source": [
    "df.isnull().sum()"
   ]
  },
  {
   "cell_type": "code",
   "execution_count": 53,
   "id": "49fbedf0",
   "metadata": {},
   "outputs": [
    {
     "data": {
      "text/plain": [
       "array(['seed', 'pre_seed', 'unknown', 'series_unknown', 'private_equity',\n",
       "       'series_a', 'angel', 'equity_crowdfunding',\n",
       "       'initial_coin_offering', 'series_b', 'series_c', 'corporate_round',\n",
       "       'post_ipo_equity', 'series_d', 'undisclosed', 'series_e',\n",
       "       'series_f', 'series_g', 'series_h'], dtype=object)"
      ]
     },
     "execution_count": 53,
     "metadata": {},
     "output_type": "execute_result"
    }
   ],
   "source": [
    "df.last_equity_funding_type.unique()"
   ]
  },
  {
   "cell_type": "code",
   "execution_count": 54,
   "id": "adeda69c",
   "metadata": {},
   "outputs": [
    {
     "data": {
      "text/plain": [
       "(312667, 16)"
      ]
     },
     "execution_count": 54,
     "metadata": {},
     "output_type": "execute_result"
    }
   ],
   "source": [
    "df.shape"
   ]
  },
  {
   "cell_type": "markdown",
   "id": "2e90fe26",
   "metadata": {},
   "source": [
    "# Encoding industries and technologies"
   ]
  },
  {
   "cell_type": "code",
   "execution_count": 55,
   "id": "eb9c07de",
   "metadata": {},
   "outputs": [],
   "source": [
    "#def encode_column(df, column_to_encode):\n",
    "    \n",
    "    #encoder = OneHotEncoder(sparse=False)\n",
    "    #df[encoder.get_feature_names_out()] = encoder.fit_transform(df[[column_to_encode]])\n",
    "    \n",
    "    #df.drop(columns=column_to_encode,inplace = True)\n",
    "    \n",
    "    #columns_lits=[column for column in df.columns.to_list() if column_to_encode in column]\n",
    "    #columns_to_groupby=[column for column in df.columns.to_list() if column not in columns_lits]\n",
    "    \n",
    "    #df=df.groupby(columns_to_groupby).max().reset_index()\n",
    "    \n",
    "    #return df"
   ]
  },
  {
   "cell_type": "code",
   "execution_count": 56,
   "id": "48c20661",
   "metadata": {},
   "outputs": [],
   "source": [
    "#for column in ['industry_name','technology_name']:\n",
    "    #print(column)\n",
    "    #df=encode_column(df,column)\n",
    "    #print(df.shape)"
   ]
  }
 ],
 "metadata": {
  "kernelspec": {
   "display_name": "Python 3 (ipykernel)",
   "language": "python",
   "name": "python3"
  },
  "language_info": {
   "codemirror_mode": {
    "name": "ipython",
    "version": 3
   },
   "file_extension": ".py",
   "mimetype": "text/x-python",
   "name": "python",
   "nbconvert_exporter": "python",
   "pygments_lexer": "ipython3",
   "version": "3.10.6"
  },
  "toc": {
   "base_numbering": 1,
   "nav_menu": {},
   "number_sections": true,
   "sideBar": true,
   "skip_h1_title": false,
   "title_cell": "Table of Contents",
   "title_sidebar": "Contents",
   "toc_cell": false,
   "toc_position": {},
   "toc_section_display": true,
   "toc_window_display": false
  }
 },
 "nbformat": 4,
 "nbformat_minor": 5
}
