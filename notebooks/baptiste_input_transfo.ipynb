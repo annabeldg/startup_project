{
 "cells": [
  {
   "cell_type": "code",
   "execution_count": 2,
   "id": "c0057460",
   "metadata": {},
   "outputs": [],
   "source": [
    "import os\n",
    "import pandas as pd\n",
    "import streamlit as st\n",
    "import numpy as np"
   ]
  },
  {
   "cell_type": "code",
   "execution_count": 7,
   "id": "b441a760",
   "metadata": {},
   "outputs": [
    {
     "name": "stdout",
     "output_type": "stream",
     "text": [
      "['num_funding_rounds', 'last_equity_funding_total', 'employeeCount', 'Advertising', 'Agriculture and Farming', 'Clothing and Apparel', 'Commerce and Shopping', 'Community and Lifestyle', 'Computer Hardware', 'Consumer Electronics', 'Consumer Goods', 'Content and Publishing', 'Data and Analytics', 'Design', 'Education', 'Energy', 'Environment and Sustainability', 'Events', 'Financial Services', 'Food and Beverage', 'Gaming', 'Government and Military', 'Health Care', 'HumanResources', 'Legal', 'Life Sciences', 'Logistics', 'Manufacturing', 'Media and Entertainment', 'Messaging and Telecommunications', 'Music and Audio', 'Natural Resources', 'Navigation and Mapping', 'Payments', 'Privacy and Security', 'Professional Services', 'Real Estate and Construction', 'Sales and Marketing', 'Software_x', 'Sports', 'Transportation', 'Travel and Tourism', 'Video', 'AR and VR', 'Artificial Intelligence', 'Biotechnology', 'BlockChain', 'Hardware', 'Science and Engineering', 'Software_y', 'Sustainability', 'Round 1', 'Round 2', 'Round 3', 'Round 4', 'Round 5', 'CN', 'US', 'VN', 'CO', 'CA', 'DK', 'JP', 'SE', 'BE', 'NL', 'IT', 'AU', 'OTHERS', 'IL', 'ES', 'DE', 'IN', 'CH', 'AR', 'GB', 'KR', 'BR', 'PT', 'EG', 'PL', 'FR', 'HK', 'TW', 'NO', 'RO', 'BD', 'RU', 'ZA', 'MY', 'IE', 'MX', 'NG', 'AE', 'EE', 'CL', 'PK', 'SG', 'HU', 'CZ', 'UA', 'LU', 'CY', 'ID', 'KE', 'FI', 'AT', 'UG', 'TR', 'NZ', 'TH', 'GH', 'SA', 'LT', 'PH', 'LV', 'BG', 'GR', 'seed', 'pre_seed', 'private_equity', 'series_a', 'angel', 'equity_crowdfunding', 'series_b', 'series_c', 'post_ipo_equity', 'series_d', 'series_e', 'series_f', 'series_g', 'series_h', 'days_between_dates', 'Target']\n"
     ]
    }
   ],
   "source": [
    "data_path=os.path.join(os.path.abspath(os.path.dirname(os.getcwd())),'raw_data')\n",
    "df=pd.read_csv(os.path.join(data_path,'startups_modified.csv'))\n",
    "\n",
    "input_columns=df.columns.to_list()\n",
    "print(input_columns)"
   ]
  },
  {
   "cell_type": "code",
   "execution_count": 3,
   "id": "e79d8ad9",
   "metadata": {},
   "outputs": [
    {
     "name": "stdout",
     "output_type": "stream",
     "text": [
      "['id', 'name', 'website', 'short_description', 'ipo_status', 'founded_on', 'went_public_on', 'exited_on', 'num_funding_rounds', 'last_equity_funding_type', 'last_equity_funding_total', 'last_funding_at', 'headquartersCountry', 'headquartersRegion', 'employeeCount', 'industry_name', 'technology_name', 'announcedOn', 'moneyRaised']\n"
     ]
    }
   ],
   "source": [
    "data_path=os.path.join(os.path.abspath(os.path.dirname(os.getcwd())),'raw_data')\n",
    "df=pd.read_csv(os.path.join(data_path,'startups.csv'))\n",
    "\n",
    "input_columns=df.columns.to_list()\n",
    "print(input_columns)"
   ]
  },
  {
   "cell_type": "code",
   "execution_count": 6,
   "id": "bc220589",
   "metadata": {},
   "outputs": [
    {
     "data": {
      "text/plain": [
       "array(['Science and Engineering', 'Hardware', 'Software', 'Biotechnology',\n",
       "       nan, 'Artificial Intelligence', 'AR and VR', 'Sustainability',\n",
       "       'BlockChain'], dtype=object)"
      ]
     },
     "execution_count": 6,
     "metadata": {},
     "output_type": "execute_result"
    }
   ],
   "source": [
    "df.technology_name.unique()"
   ]
  },
  {
   "cell_type": "code",
   "execution_count": 11,
   "id": "aba09196",
   "metadata": {},
   "outputs": [
    {
     "name": "stderr",
     "output_type": "stream",
     "text": [
      "2023-03-16 19:47:46.244 \n",
      "  \u001b[33m\u001b[1mWarning:\u001b[0m to view this Streamlit app on a browser, run it with the following\n",
      "  command:\n",
      "\n",
      "    streamlit run /Users/baptiste/.pyenv/versions/3.10.6/envs/lewagon/lib/python3.10/site-packages/ipykernel_launcher.py [ARGUMENTS]\n"
     ]
    },
    {
     "data": {
      "text/html": [
       "<div>\n",
       "<style scoped>\n",
       "    .dataframe tbody tr th:only-of-type {\n",
       "        vertical-align: middle;\n",
       "    }\n",
       "\n",
       "    .dataframe tbody tr th {\n",
       "        vertical-align: top;\n",
       "    }\n",
       "\n",
       "    .dataframe thead th {\n",
       "        text-align: right;\n",
       "    }\n",
       "</style>\n",
       "<table border=\"1\" class=\"dataframe\">\n",
       "  <thead>\n",
       "    <tr style=\"text-align: right;\">\n",
       "      <th></th>\n",
       "      <th>first column</th>\n",
       "      <th>second column</th>\n",
       "    </tr>\n",
       "  </thead>\n",
       "  <tbody>\n",
       "    <tr>\n",
       "      <th>0</th>\n",
       "      <td>1</td>\n",
       "      <td>10</td>\n",
       "    </tr>\n",
       "    <tr>\n",
       "      <th>1</th>\n",
       "      <td>2</td>\n",
       "      <td>20</td>\n",
       "    </tr>\n",
       "    <tr>\n",
       "      <th>2</th>\n",
       "      <td>3</td>\n",
       "      <td>30</td>\n",
       "    </tr>\n",
       "  </tbody>\n",
       "</table>\n",
       "</div>"
      ],
      "text/plain": [
       "   first column  second column\n",
       "0             1             10\n",
       "1             2             20\n",
       "2             3             30"
      ]
     },
     "execution_count": 11,
     "metadata": {},
     "output_type": "execute_result"
    }
   ],
   "source": [
    "st.markdown(\"\"\"# This is a header\n",
    "## This is a sub header\n",
    "This is text\"\"\")\n",
    "\n",
    "df = pd.DataFrame({\n",
    "    'first column': list(range(1, 11)),\n",
    "    'second column': np.arange(10, 101, 10)\n",
    "})\n",
    "\n",
    "# this slider allows the user to select a number of lines\n",
    "# to display in the dataframe\n",
    "# the selected value is returned by st.slider\n",
    "line_count = st.slider('Select a line count', 1, 10, 3)\n",
    "\n",
    "# and used to select the displayed lines\n",
    "head_df = df.head(line_count)\n",
    "\n",
    "head_df"
   ]
  },
  {
   "cell_type": "code",
   "execution_count": null,
   "id": "43a8d4e4",
   "metadata": {},
   "outputs": [],
   "source": []
  }
 ],
 "metadata": {
  "kernelspec": {
   "display_name": "Python 3 (ipykernel)",
   "language": "python",
   "name": "python3"
  },
  "language_info": {
   "codemirror_mode": {
    "name": "ipython",
    "version": 3
   },
   "file_extension": ".py",
   "mimetype": "text/x-python",
   "name": "python",
   "nbconvert_exporter": "python",
   "pygments_lexer": "ipython3",
   "version": "3.10.6"
  },
  "toc": {
   "base_numbering": 1,
   "nav_menu": {},
   "number_sections": true,
   "sideBar": true,
   "skip_h1_title": false,
   "title_cell": "Table of Contents",
   "title_sidebar": "Contents",
   "toc_cell": false,
   "toc_position": {},
   "toc_section_display": true,
   "toc_window_display": false
  }
 },
 "nbformat": 4,
 "nbformat_minor": 5
}
